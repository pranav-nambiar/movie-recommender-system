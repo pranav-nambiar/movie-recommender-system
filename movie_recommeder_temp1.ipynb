{
  "nbformat": 4,
  "nbformat_minor": 0,
  "metadata": {
    "colab": {
      "name": "movie-recommeder.ipynb",
      "provenance": [],
      "collapsed_sections": [],
      "authorship_tag": "ABX9TyMcZ80EmcvsmHdbr3jOhWAH",
      "include_colab_link": true
    },
    "kernelspec": {
      "name": "python3",
      "display_name": "Python 3"
    }
  },
  "cells": [
    {
      "cell_type": "markdown",
      "metadata": {
        "id": "view-in-github",
        "colab_type": "text"
      },
      "source": [
        "<a href=\"https://colab.research.google.com/github/vishnureddys/movie-recommender-system/blob/main/movie_recommeder_temp1.ipynb\" target=\"_parent\"><img src=\"https://colab.research.google.com/assets/colab-badge.svg\" alt=\"Open In Colab\"/></a>"
      ]
    },
    {
      "cell_type": "markdown",
      "metadata": {
        "id": "i-wH2JqaI6bl"
      },
      "source": [
        "# Initial Setup"
      ]
    },
    {
      "cell_type": "code",
      "metadata": {
        "id": "5A9HwPFjJv2K"
      },
      "source": [
        "#installing Apache Spark on Colab\n",
        "import os"
      ],
      "execution_count": 1,
      "outputs": []
    },
    {
      "cell_type": "code",
      "metadata": {
        "id": "N3gqb5ffJ1te"
      },
      "source": [
        "#Downloading Java JDK version 8\n",
        "!apt-get install openjdk-8-jdk-headless -qq > /dev/null"
      ],
      "execution_count": 2,
      "outputs": []
    },
    {
      "cell_type": "code",
      "metadata": {
        "id": "59wUXYxbL8km"
      },
      "source": [
        "#Downloading and installing Apache Spark along with Findspark\n",
        "!wget -q https://downloads.apache.org/spark/spark-2.4.7/spark-2.4.7-bin-hadoop2.7.tgz\n",
        "!tar xf spark-2.4.7-bin-hadoop2.7.tgz\n",
        "!pip install -q Findspark\n"
      ],
      "execution_count": 5,
      "outputs": []
    },
    {
      "cell_type": "code",
      "metadata": {
        "colab": {
          "base_uri": "https://localhost:8080/"
        },
        "id": "chMlh1ccMKbE",
        "outputId": "fa397b32-5110-4b35-cc2a-6eb57cb5be97"
      },
      "source": [
        "# Change Java Version Frim JDK-11 to JDK-8\n",
        "!update-alternatives --set java /usr/lib/jvm/java-8-openjdk-amd64/jre/bin/java\n",
        "\n",
        "# Set Environment Variables\n",
        "os.environ[\"JAVA_HOME\"] = \"/usr/lib/jvm/java-8-openjdk-amd64\"\n",
        "os.environ[\"SPARK_HOME\"] = \"/content/spark-2.4.7-bin-hadoop2.7\""
      ],
      "execution_count": 7,
      "outputs": [
        {
          "output_type": "stream",
          "text": [
            "update-alternatives: using /usr/lib/jvm/java-8-openjdk-amd64/jre/bin/java to provide /usr/bin/java (java) in manual mode\n"
          ],
          "name": "stdout"
        }
      ]
    },
    {
      "cell_type": "code",
      "metadata": {
        "colab": {
          "base_uri": "https://localhost:8080/"
        },
        "id": "XnHLiBWEMZFv",
        "outputId": "f26c1bf5-99ce-4983-e336-aced385bd399"
      },
      "source": [
        "#Now launching a spark session on colab\n",
        "\n",
        "import findspark\n",
        "findspark.init()\n",
        "\n",
        "#Start Apache Spark session and context\n",
        "import pyspark\n",
        "from pyspark.sql import SQLContext\n",
        "\n",
        "sc = pyspark.SparkContext(appName='bd_project')\n",
        "sqlContext = SQLContext(sc)\n",
        "\n",
        "print('Master : ', sc.master)\n",
        "print('Cores  : ', sc.defaultParallelism)"
      ],
      "execution_count": 8,
      "outputs": [
        {
          "output_type": "stream",
          "text": [
            "Master :  local[*]\n",
            "Cores  :  2\n"
          ],
          "name": "stdout"
        }
      ]
    },
    {
      "cell_type": "code",
      "metadata": {
        "id": "Dlww_U6FNSMr"
      },
      "source": [
        "# Required Later\n",
        "sqlContext.sparkSession.conf.set(\"spark.sql.autoBroadcastJoinThreshold\", -1)"
      ],
      "execution_count": 9,
      "outputs": []
    },
    {
      "cell_type": "code",
      "metadata": {
        "colab": {
          "base_uri": "https://localhost:8080/"
        },
        "id": "3FmPEEHcNWz-",
        "outputId": "48296e18-c95e-4562-bfbd-21be5dc594fa"
      },
      "source": [
        "#The packages we will be needing\n",
        "!pip install koalas"
      ],
      "execution_count": 10,
      "outputs": [
        {
          "output_type": "stream",
          "text": [
            "Collecting koalas\n",
            "\u001b[?25l  Downloading https://files.pythonhosted.org/packages/0f/fa/26bfdc01856c15c9c953851659432ccc623be1b0168a76bf0e2eb8b423f4/koalas-1.4.0-py3-none-any.whl (769kB)\n",
            "\r\u001b[K     |▍                               | 10kB 18.8MB/s eta 0:00:01\r\u001b[K     |▉                               | 20kB 21.9MB/s eta 0:00:01\r\u001b[K     |█▎                              | 30kB 18.3MB/s eta 0:00:01\r\u001b[K     |█▊                              | 40kB 13.2MB/s eta 0:00:01\r\u001b[K     |██▏                             | 51kB 13.8MB/s eta 0:00:01\r\u001b[K     |██▌                             | 61kB 15.7MB/s eta 0:00:01\r\u001b[K     |███                             | 71kB 12.3MB/s eta 0:00:01\r\u001b[K     |███▍                            | 81kB 13.5MB/s eta 0:00:01\r\u001b[K     |███▉                            | 92kB 11.7MB/s eta 0:00:01\r\u001b[K     |████▎                           | 102kB 11.4MB/s eta 0:00:01\r\u001b[K     |████▊                           | 112kB 11.4MB/s eta 0:00:01\r\u001b[K     |█████                           | 122kB 11.4MB/s eta 0:00:01\r\u001b[K     |█████▌                          | 133kB 11.4MB/s eta 0:00:01\r\u001b[K     |██████                          | 143kB 11.4MB/s eta 0:00:01\r\u001b[K     |██████▍                         | 153kB 11.4MB/s eta 0:00:01\r\u001b[K     |██████▉                         | 163kB 11.4MB/s eta 0:00:01\r\u001b[K     |███████▎                        | 174kB 11.4MB/s eta 0:00:01\r\u001b[K     |███████▋                        | 184kB 11.4MB/s eta 0:00:01\r\u001b[K     |████████                        | 194kB 11.4MB/s eta 0:00:01\r\u001b[K     |████████▌                       | 204kB 11.4MB/s eta 0:00:01\r\u001b[K     |█████████                       | 215kB 11.4MB/s eta 0:00:01\r\u001b[K     |█████████▍                      | 225kB 11.4MB/s eta 0:00:01\r\u001b[K     |█████████▉                      | 235kB 11.4MB/s eta 0:00:01\r\u001b[K     |██████████▏                     | 245kB 11.4MB/s eta 0:00:01\r\u001b[K     |██████████▋                     | 256kB 11.4MB/s eta 0:00:01\r\u001b[K     |███████████                     | 266kB 11.4MB/s eta 0:00:01\r\u001b[K     |███████████▌                    | 276kB 11.4MB/s eta 0:00:01\r\u001b[K     |████████████                    | 286kB 11.4MB/s eta 0:00:01\r\u001b[K     |████████████▍                   | 296kB 11.4MB/s eta 0:00:01\r\u001b[K     |████████████▊                   | 307kB 11.4MB/s eta 0:00:01\r\u001b[K     |█████████████▏                  | 317kB 11.4MB/s eta 0:00:01\r\u001b[K     |█████████████▋                  | 327kB 11.4MB/s eta 0:00:01\r\u001b[K     |██████████████                  | 337kB 11.4MB/s eta 0:00:01\r\u001b[K     |██████████████▌                 | 348kB 11.4MB/s eta 0:00:01\r\u001b[K     |███████████████                 | 358kB 11.4MB/s eta 0:00:01\r\u001b[K     |███████████████▎                | 368kB 11.4MB/s eta 0:00:01\r\u001b[K     |███████████████▊                | 378kB 11.4MB/s eta 0:00:01\r\u001b[K     |████████████████▏               | 389kB 11.4MB/s eta 0:00:01\r\u001b[K     |████████████████▋               | 399kB 11.4MB/s eta 0:00:01\r\u001b[K     |█████████████████               | 409kB 11.4MB/s eta 0:00:01\r\u001b[K     |█████████████████▌              | 419kB 11.4MB/s eta 0:00:01\r\u001b[K     |█████████████████▉              | 430kB 11.4MB/s eta 0:00:01\r\u001b[K     |██████████████████▎             | 440kB 11.4MB/s eta 0:00:01\r\u001b[K     |██████████████████▊             | 450kB 11.4MB/s eta 0:00:01\r\u001b[K     |███████████████████▏            | 460kB 11.4MB/s eta 0:00:01\r\u001b[K     |███████████████████▋            | 471kB 11.4MB/s eta 0:00:01\r\u001b[K     |████████████████████            | 481kB 11.4MB/s eta 0:00:01\r\u001b[K     |████████████████████▍           | 491kB 11.4MB/s eta 0:00:01\r\u001b[K     |████████████████████▉           | 501kB 11.4MB/s eta 0:00:01\r\u001b[K     |█████████████████████▎          | 512kB 11.4MB/s eta 0:00:01\r\u001b[K     |█████████████████████▊          | 522kB 11.4MB/s eta 0:00:01\r\u001b[K     |██████████████████████▏         | 532kB 11.4MB/s eta 0:00:01\r\u001b[K     |██████████████████████▋         | 542kB 11.4MB/s eta 0:00:01\r\u001b[K     |███████████████████████         | 552kB 11.4MB/s eta 0:00:01\r\u001b[K     |███████████████████████▍        | 563kB 11.4MB/s eta 0:00:01\r\u001b[K     |███████████████████████▉        | 573kB 11.4MB/s eta 0:00:01\r\u001b[K     |████████████████████████▎       | 583kB 11.4MB/s eta 0:00:01\r\u001b[K     |████████████████████████▊       | 593kB 11.4MB/s eta 0:00:01\r\u001b[K     |█████████████████████████▏      | 604kB 11.4MB/s eta 0:00:01\r\u001b[K     |█████████████████████████▌      | 614kB 11.4MB/s eta 0:00:01\r\u001b[K     |██████████████████████████      | 624kB 11.4MB/s eta 0:00:01\r\u001b[K     |██████████████████████████▍     | 634kB 11.4MB/s eta 0:00:01\r\u001b[K     |██████████████████████████▉     | 645kB 11.4MB/s eta 0:00:01\r\u001b[K     |███████████████████████████▎    | 655kB 11.4MB/s eta 0:00:01\r\u001b[K     |███████████████████████████▊    | 665kB 11.4MB/s eta 0:00:01\r\u001b[K     |████████████████████████████    | 675kB 11.4MB/s eta 0:00:01\r\u001b[K     |████████████████████████████▌   | 686kB 11.4MB/s eta 0:00:01\r\u001b[K     |█████████████████████████████   | 696kB 11.4MB/s eta 0:00:01\r\u001b[K     |█████████████████████████████▍  | 706kB 11.4MB/s eta 0:00:01\r\u001b[K     |█████████████████████████████▉  | 716kB 11.4MB/s eta 0:00:01\r\u001b[K     |██████████████████████████████▎ | 727kB 11.4MB/s eta 0:00:01\r\u001b[K     |██████████████████████████████▋ | 737kB 11.4MB/s eta 0:00:01\r\u001b[K     |███████████████████████████████ | 747kB 11.4MB/s eta 0:00:01\r\u001b[K     |███████████████████████████████▌| 757kB 11.4MB/s eta 0:00:01\r\u001b[K     |████████████████████████████████| 768kB 11.4MB/s eta 0:00:01\r\u001b[K     |████████████████████████████████| 778kB 11.4MB/s \n",
            "\u001b[?25hRequirement already satisfied: matplotlib>=3.0.0 in /usr/local/lib/python3.6/dist-packages (from koalas) (3.2.2)\n",
            "Requirement already satisfied: pyarrow>=0.10 in /usr/local/lib/python3.6/dist-packages (from koalas) (0.14.1)\n",
            "Requirement already satisfied: pandas>=0.23.2 in /usr/local/lib/python3.6/dist-packages (from koalas) (1.1.4)\n",
            "Requirement already satisfied: numpy>=1.14 in /usr/local/lib/python3.6/dist-packages (from koalas) (1.18.5)\n",
            "Requirement already satisfied: python-dateutil>=2.1 in /usr/local/lib/python3.6/dist-packages (from matplotlib>=3.0.0->koalas) (2.8.1)\n",
            "Requirement already satisfied: cycler>=0.10 in /usr/local/lib/python3.6/dist-packages (from matplotlib>=3.0.0->koalas) (0.10.0)\n",
            "Requirement already satisfied: kiwisolver>=1.0.1 in /usr/local/lib/python3.6/dist-packages (from matplotlib>=3.0.0->koalas) (1.3.1)\n",
            "Requirement already satisfied: pyparsing!=2.0.4,!=2.1.2,!=2.1.6,>=2.0.1 in /usr/local/lib/python3.6/dist-packages (from matplotlib>=3.0.0->koalas) (2.4.7)\n",
            "Requirement already satisfied: six>=1.0.0 in /usr/local/lib/python3.6/dist-packages (from pyarrow>=0.10->koalas) (1.15.0)\n",
            "Requirement already satisfied: pytz>=2017.2 in /usr/local/lib/python3.6/dist-packages (from pandas>=0.23.2->koalas) (2018.9)\n",
            "Installing collected packages: koalas\n",
            "Successfully installed koalas-1.4.0\n"
          ],
          "name": "stdout"
        }
      ]
    },
    {
      "cell_type": "code",
      "metadata": {
        "id": "0NyLNu2UNfpF"
      },
      "source": [
        "# Default Packages (available by Default in Google Colab)\n",
        "import math\n",
        "import numpy as np\n",
        "import pandas as pd\n",
        "import matplotlib.pyplot as plt\n",
        "import matplotlib.ticker as ticker\n",
        "import seaborn as sns\n",
        "import random\n",
        "from pprint import pprint\n",
        "from matplotlib.lines import Line2D\n",
        "\n",
        "# Downloaded Packages (not available by Default)\n",
        "import databricks.koalas\n",
        "\n",
        "# PySpark Utilities\n",
        "import pyspark.sql.functions as F\n",
        "from pyspark.sql.types import *\n",
        "from pyspark.ml.recommendation import ALS, ALSModel\n",
        "from pyspark.ml.evaluation import RegressionEvaluator, BinaryClassificationEvaluator\n",
        "from pyspark.ml.tuning import ParamGridBuilder, TrainValidationSplit\n",
        "from pyspark.mllib.evaluation import RegressionMetrics, RankingMetrics\n",
        "\n",
        "# Random Seed\n",
        "SEED = 1492\n",
        "\n",
        "# Set-up\n",
        "plt.style.use('seaborn')"
      ],
      "execution_count": 11,
      "outputs": []
    },
    {
      "cell_type": "code",
      "metadata": {
        "colab": {
          "base_uri": "https://localhost:8080/"
        },
        "id": "z58ZTba8Nnl6",
        "outputId": "7d1e6810-536a-4efb-81a8-bc310aa271ea"
      },
      "source": [
        "from google.colab import drive\n",
        "drive.mount('/content/drive');"
      ],
      "execution_count": 12,
      "outputs": [
        {
          "output_type": "stream",
          "text": [
            "Mounted at /content/drive\n"
          ],
          "name": "stdout"
        }
      ]
    },
    {
      "cell_type": "code",
      "metadata": {
        "id": "twBjg55TN36P"
      },
      "source": [
        ""
      ],
      "execution_count": null,
      "outputs": []
    }
  ]
}