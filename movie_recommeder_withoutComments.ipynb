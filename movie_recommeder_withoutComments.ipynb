{
  "nbformat": 4,
  "nbformat_minor": 0,
  "metadata": {
    "colab": {
      "name": "movie-recommeder.ipynb",
      "provenance": [],
      "collapsed_sections": [],
      "authorship_tag": "ABX9TyOlewPT8KvT+9K21DcXoWFX",
      "include_colab_link": true
    },
    "kernelspec": {
      "name": "python3",
      "display_name": "Python 3"
    }
  },
  "cells": [
    {
      "cell_type": "markdown",
      "metadata": {
        "id": "view-in-github",
        "colab_type": "text"
      },
      "source": [
        "<a href=\"https://colab.research.google.com/github/vishnureddys/movie-recommender-system/blob/main/movie_recommeder_withoutComments.ipynb\" target=\"_parent\"><img src=\"https://colab.research.google.com/assets/colab-badge.svg\" alt=\"Open In Colab\"/></a>"
      ]
    },
    {
      "cell_type": "markdown",
      "metadata": {
        "id": "i-wH2JqaI6bl"
      },
      "source": [
        "# Initial Setup"
      ]
    },
    {
      "cell_type": "code",
      "metadata": {
        "id": "5A9HwPFjJv2K"
      },
      "source": [
        "#installing Apache Spark on Colab\n",
        "import os"
      ],
      "execution_count": 1,
      "outputs": []
    },
    {
      "cell_type": "code",
      "metadata": {
        "id": "N3gqb5ffJ1te"
      },
      "source": [
        "#Downloading Java JDK version 8\n",
        "!apt-get install openjdk-8-jdk-headless -qq > /dev/null"
      ],
      "execution_count": 2,
      "outputs": []
    },
    {
      "cell_type": "code",
      "metadata": {
        "id": "59wUXYxbL8km"
      },
      "source": [
        "#Downloading and installing Apache Spark along with Findspark\n",
        "!wget -q https://downloads.apache.org/spark/spark-2.4.7/spark-2.4.7-bin-hadoop2.7.tgz\n",
        "!tar xf spark-2.4.7-bin-hadoop2.7.tgz\n",
        "!pip install -q Findspark\n"
      ],
      "execution_count": 3,
      "outputs": []
    },
    {
      "cell_type": "code",
      "metadata": {
        "colab": {
          "base_uri": "https://localhost:8080/"
        },
        "id": "chMlh1ccMKbE",
        "outputId": "a34a7b4b-55e7-447f-a84b-a0f64f14ced8"
      },
      "source": [
        "# Change Java Version Frim JDK-11 to JDK-8\n",
        "!update-alternatives --set java /usr/lib/jvm/java-8-openjdk-amd64/jre/bin/java\n",
        "\n",
        "# Set Environment Variables\n",
        "os.environ[\"JAVA_HOME\"] = \"/usr/lib/jvm/java-8-openjdk-amd64\"\n",
        "os.environ[\"SPARK_HOME\"] = \"/content/spark-2.4.7-bin-hadoop2.7\""
      ],
      "execution_count": 4,
      "outputs": [
        {
          "output_type": "stream",
          "text": [
            "update-alternatives: using /usr/lib/jvm/java-8-openjdk-amd64/jre/bin/java to provide /usr/bin/java (java) in manual mode\n"
          ],
          "name": "stdout"
        }
      ]
    },
    {
      "cell_type": "code",
      "metadata": {
        "colab": {
          "base_uri": "https://localhost:8080/"
        },
        "id": "XnHLiBWEMZFv",
        "outputId": "3f662de5-7af0-4f88-b026-663a26cc03ec"
      },
      "source": [
        "#Now launching a spark session on colab\n",
        "\n",
        "import findspark\n",
        "findspark.init()\n",
        "\n",
        "#Start Apache Spark session and context\n",
        "import pyspark\n",
        "from pyspark.sql import SQLContext\n",
        "\n",
        "sc = pyspark.SparkContext(appName='bd_project')\n",
        "sqlContext = SQLContext(sc)\n",
        "\n",
        "print('Master : ', sc.master)\n",
        "print('Cores  : ', sc.defaultParallelism)"
      ],
      "execution_count": 5,
      "outputs": [
        {
          "output_type": "stream",
          "text": [
            "Master :  local[*]\n",
            "Cores  :  2\n"
          ],
          "name": "stdout"
        }
      ]
    },
    {
      "cell_type": "code",
      "metadata": {
        "id": "Dlww_U6FNSMr"
      },
      "source": [
        "# Required Later\n",
        "sqlContext.sparkSession.conf.set(\"spark.sql.autoBroadcastJoinThreshold\", -1)"
      ],
      "execution_count": 6,
      "outputs": []
    },
    {
      "cell_type": "code",
      "metadata": {
        "colab": {
          "base_uri": "https://localhost:8080/"
        },
        "id": "3FmPEEHcNWz-",
        "outputId": "5924c18b-6a36-4ea5-c68f-2d6a380d5503"
      },
      "source": [
        "#The packages we will be needing\n",
        "!pip install koalas"
      ],
      "execution_count": 7,
      "outputs": [
        {
          "output_type": "stream",
          "text": [
            "Collecting koalas\n",
            "\u001b[?25l  Downloading https://files.pythonhosted.org/packages/0f/fa/26bfdc01856c15c9c953851659432ccc623be1b0168a76bf0e2eb8b423f4/koalas-1.4.0-py3-none-any.whl (769kB)\n",
            "\u001b[K     |████████████████████████████████| 778kB 4.9MB/s \n",
            "\u001b[?25hRequirement already satisfied: matplotlib>=3.0.0 in /usr/local/lib/python3.6/dist-packages (from koalas) (3.2.2)\n",
            "Requirement already satisfied: pyarrow>=0.10 in /usr/local/lib/python3.6/dist-packages (from koalas) (0.14.1)\n",
            "Requirement already satisfied: pandas>=0.23.2 in /usr/local/lib/python3.6/dist-packages (from koalas) (1.1.4)\n",
            "Requirement already satisfied: numpy>=1.14 in /usr/local/lib/python3.6/dist-packages (from koalas) (1.18.5)\n",
            "Requirement already satisfied: cycler>=0.10 in /usr/local/lib/python3.6/dist-packages (from matplotlib>=3.0.0->koalas) (0.10.0)\n",
            "Requirement already satisfied: kiwisolver>=1.0.1 in /usr/local/lib/python3.6/dist-packages (from matplotlib>=3.0.0->koalas) (1.3.1)\n",
            "Requirement already satisfied: pyparsing!=2.0.4,!=2.1.2,!=2.1.6,>=2.0.1 in /usr/local/lib/python3.6/dist-packages (from matplotlib>=3.0.0->koalas) (2.4.7)\n",
            "Requirement already satisfied: python-dateutil>=2.1 in /usr/local/lib/python3.6/dist-packages (from matplotlib>=3.0.0->koalas) (2.8.1)\n",
            "Requirement already satisfied: six>=1.0.0 in /usr/local/lib/python3.6/dist-packages (from pyarrow>=0.10->koalas) (1.15.0)\n",
            "Requirement already satisfied: pytz>=2017.2 in /usr/local/lib/python3.6/dist-packages (from pandas>=0.23.2->koalas) (2018.9)\n",
            "Installing collected packages: koalas\n",
            "Successfully installed koalas-1.4.0\n"
          ],
          "name": "stdout"
        }
      ]
    },
    {
      "cell_type": "code",
      "metadata": {
        "id": "0NyLNu2UNfpF"
      },
      "source": [
        "# Default Packages (available by Default in Google Colab)\n",
        "import math\n",
        "import numpy as np\n",
        "import pandas as pd\n",
        "import matplotlib.pyplot as plt\n",
        "import matplotlib.ticker as ticker\n",
        "import seaborn as sns\n",
        "import random\n",
        "from pprint import pprint\n",
        "from matplotlib.lines import Line2D\n",
        "\n",
        "# Downloaded Packages (not available by Default)\n",
        "import databricks.koalas\n",
        "\n",
        "# PySpark Utilities\n",
        "import pyspark.sql.functions as F\n",
        "from pyspark.sql.types import *\n",
        "from pyspark.ml.recommendation import ALS, ALSModel\n",
        "from pyspark.ml.evaluation import RegressionEvaluator, BinaryClassificationEvaluator\n",
        "from pyspark.ml.tuning import ParamGridBuilder, TrainValidationSplit\n",
        "from pyspark.mllib.evaluation import RegressionMetrics, RankingMetrics\n",
        "\n",
        "# Random Seed\n",
        "SEED = 1492\n",
        "\n",
        "# Set-up\n",
        "plt.style.use('seaborn')"
      ],
      "execution_count": 8,
      "outputs": []
    },
    {
      "cell_type": "code",
      "metadata": {
        "colab": {
          "base_uri": "https://localhost:8080/"
        },
        "id": "z58ZTba8Nnl6",
        "outputId": "58144098-0f0b-4c00-f3b0-e9a5f63c2f0f"
      },
      "source": [
        "from google.colab import drive\n",
        "drive.mount('/content/drive');"
      ],
      "execution_count": 9,
      "outputs": [
        {
          "output_type": "stream",
          "text": [
            "Mounted at /content/drive\n"
          ],
          "name": "stdout"
        }
      ]
    },
    {
      "cell_type": "code",
      "metadata": {
        "colab": {
          "base_uri": "https://localhost:8080/"
        },
        "id": "twBjg55TN36P",
        "outputId": "8e9abc86-8829-4955-e721-0c7c273deb4a"
      },
      "source": [
        "!ls \"drive/My Drive/MovieRecommender\""
      ],
      "execution_count": 10,
      "outputs": [
        {
          "output_type": "stream",
          "text": [
            "Data  Results\n"
          ],
          "name": "stdout"
        }
      ]
    },
    {
      "cell_type": "code",
      "metadata": {
        "id": "mbHbnw9J8njg"
      },
      "source": [
        "#Path to Data Folder\n",
        "DATA_PATH = \"drive/My Drive/MovieRecommender/Data\"\n",
        "\n",
        "#Path to Results Folder\n",
        "RESULTS_PATH = \"drive/My Drive/MovieRecommender/Results\""
      ],
      "execution_count": 11,
      "outputs": []
    },
    {
      "cell_type": "markdown",
      "metadata": {
        "id": "TKw0hUqS9ZKH"
      },
      "source": [
        "# Data Preprocessing"
      ]
    },
    {
      "cell_type": "code",
      "metadata": {
        "id": "hsofFjRr9dKm"
      },
      "source": [
        "class MovieLensDatasets(object):\n",
        "    \"\"\"\n",
        "    Class for loading and preprocesing MovieLens Dataset\n",
        "    \"\"\"\n",
        "    def __init__(self, ratings, movies, links, personalRatings, debug=True, debugLimit=10000):\n",
        "        # Load Existing Data\n",
        "        if debug:\n",
        "            debugLimit = debugLimit\n",
        "            ratings = ratings.limit(debugLimit)\n",
        "        else:\n",
        "            ratings = ratings      \n",
        "\n",
        "        self.ratings = ratings\n",
        "        self.movies = movies\n",
        "        self.links = links\n",
        "        self.personalRatings = personalRatings\n",
        "\n",
        "        # Create New DataFrame\n",
        "        users = ratings.select('userId').distinct()\n",
        "        self.users = users\n",
        "\n",
        "    def preprocessing(self):\n",
        "        # Preprocess MovieLens Ratings\n",
        "        self.ratings = self.ratings.withColumn('rating',\n",
        "        F.col('rating').cast('double')).drop('timestamp') \\\n",
        "        .withColumn('userId', F.col('userId').cast('int')) \\\n",
        "        .withColumn('movieId', F.col('movieId').cast('int'))\n",
        "\n",
        "        # Preprocess Personal IMDb Ratings To MovieLens Ratings\n",
        "        self.personalRatings = self.personalRatings.select(['Const',\n",
        "                                                'Your Rating']) \\\n",
        "        .withColumnRenamed('Const', 'imdbId') \\\n",
        "        .withColumnRenamed('Your Rating', 'personalRating')\n",
        "\n",
        "        self.personalRatings = self.personalRatings \\\n",
        "        .withColumn('personalRating', F.col('personalRating').cast('double')*0.5) \\\n",
        "        .withColumn('imdbId', F.expr(\"substr(imdbId, 3)\"))\n",
        "\n",
        "        self.personalRatings = self.personalRatings.join(\n",
        "        self.links.select('movieId', 'imdbId'), ['imdbId'], how='inner')\n",
        "\n",
        "        # Insert IMDb Ratings into MovieLens Ratings Dataset\n",
        "        self.personalRatings = self.personalRatings \\\n",
        "                    .withColumn('userId', F.lit('0'))\n",
        "        self.personalRatings = self.personalRatings \\\n",
        "                    .select(['userId', 'movieId', 'personalRating']) \\\n",
        "                    .toDF('userId', 'movieId', 'rating')\n",
        "        self.ratings = self.ratings.union(self.personalRatings)\n",
        "\n",
        "        # Binarize MovieLens Ratings (if rating >= 3.0, then 1.0, else 0.0)\n",
        "        udf_scale_ratings = F.udf(lambda x: x - 2.5, DoubleType())\n",
        "        udf_binary_ratings = F.udf(lambda x: 1.0 if x > 0.0 else 0.0, DoubleType())\n",
        "\n",
        "        self.ratings = self.ratings \\\n",
        "        .withColumn('ratingsScaled', udf_scale_ratings(F.col('rating'))) \\\n",
        "        .withColumn('ratingsBinary', udf_binary_ratings(F.col('ratingsScaled')))\n",
        "\n",
        "    def get_ratings(self):\n",
        "        return self.ratings\n",
        "\n",
        "    def get_movies(self):\n",
        "        return self.movies\n",
        "\n",
        "    # Displaying Null Values\n",
        "    def spark_df_display_null_values(sparkDf):\n",
        "        print('NaN values ?')\n",
        "        sparkDf.select([F.count(F.when(F.isnan(c), c)).alias(c) for c in sparkDf.columns]).show()\n",
        "\n",
        "        print('Null values ?')\n",
        "        sparkDf.select([F.count(F.when(F.isnull(c), c)).alias(c) for c in sparkDf.columns]).show()"
      ],
      "execution_count": 13,
      "outputs": []
    },
    {
      "cell_type": "code",
      "metadata": {
        "colab": {
          "base_uri": "https://localhost:8080/"
        },
        "id": "1Eq-jXqT9yca",
        "outputId": "8d3622ef-714e-416d-afb9-0bcf4fc1474e"
      },
      "source": [
        "%%time\n",
        "# Set to True if only testing\n",
        "# For testing: use debug=True option (subset of all ratings)\n",
        "debug = False\n",
        "\n",
        "# Load Datasets\n",
        "movies = sqlContext \\\n",
        "            .read.format('csv').option(\"header\", \"true\") \\\n",
        "            .load(DATA_PATH + \"/movies.csv\")\n",
        "\n",
        "links = sqlContext \\\n",
        "            .read.format('csv').option(\"header\", \"true\") \\\n",
        "            .load(DATA_PATH + \"/links.csv\")\n",
        "\n",
        "ratings = sqlContext.read \\\n",
        "            .format('csv').option(\"header\", \"true\") \\\n",
        "            .load(DATA_PATH + \"/ratings.csv\")\n",
        "\n",
        "personalRatings = sqlContext \\\n",
        "            .read.format('csv').option(\"header\", \"true\") \\\n",
        "            .load(DATA_PATH + \"/my_IMDB.csv\")\n",
        "\n",
        "\n",
        "# Data Preprocessing\n",
        "movieLensDatasets = MovieLensDatasets(ratings=ratings, movies=movies,\n",
        "                                      links=links,\n",
        "                                      personalRatings=personalRatings,\n",
        "                                      debug=debug)\n",
        "\n",
        "movieLensDatasets.preprocessing()\n",
        "dfRatings = movieLensDatasets.get_ratings() \n",
        "dfMovies = movieLensDatasets.get_movies()"
      ],
      "execution_count": 16,
      "outputs": [
        {
          "output_type": "stream",
          "text": [
            "CPU times: user 125 ms, sys: 3.38 ms, total: 128 ms\n",
            "Wall time: 2.15 s\n"
          ],
          "name": "stdout"
        }
      ]
    },
    {
      "cell_type": "markdown",
      "metadata": {
        "id": "NGlvmmAHC4hI"
      },
      "source": [
        "# EDA"
      ]
    },
    {
      "cell_type": "code",
      "metadata": {
        "id": "_8Tj1uOjC5-_"
      },
      "source": [
        "dfRatingsKdf = dfRatings.to_koalas()"
      ],
      "execution_count": 17,
      "outputs": []
    },
    {
      "cell_type": "code",
      "metadata": {
        "colab": {
          "base_uri": "https://localhost:8080/",
          "height": 422
        },
        "id": "yWPBjT0HC8fV",
        "outputId": "74f09084-2d94-4bfe-ff7f-47462511e4e0"
      },
      "source": [
        "%%time\n",
        "f, ax = plt.subplots(figsize=(12,6))\n",
        "userRatingGroup = dfRatingsKdf.groupby(\"userId\")['rating'].count()\n",
        "userRatingGroup.hist(bins=100, color='blue', edgecolor='black',\n",
        "                     linewidth=1.25, alpha=0.78, ax=ax)\n",
        "ax.set_xlabel('Nb. of Ratings per User')\n",
        "ax.set_xlim(0.0)\n",
        "ax.set_xticklabels(['{:,}'.format(int(x)) for x in ax.get_xticks().tolist()])\n",
        "ax.set_yticklabels(['{:,}'.format(int(x)) for x in ax.get_yticks().tolist()])\n",
        "plt.show()"
      ],
      "execution_count": 18,
      "outputs": [
        {
          "output_type": "display_data",
          "data": {
            "image/png": "[encoded data removed]",
            "text/plain": [
              "<Figure size 864x432 with 1 Axes>"
            ]
          },
          "metadata": {
            "tags": []
          }
        },
        {
          "output_type": "stream",
          "text": [
            "CPU times: user 497 ms, sys: 34.4 ms, total: 532 ms\n",
            "Wall time: 2min 2s\n"
          ],
          "name": "stdout"
        }
      ]
    },
    {
      "cell_type": "code",
      "metadata": {
        "colab": {
          "base_uri": "https://localhost:8080/",
          "height": 422
        },
        "id": "-CMmiIVIC-q3",
        "outputId": "41d7e4d8-e9d1-4dac-8d22-224faac2a33c"
      },
      "source": [
        "%%time\n",
        "f, ax = plt.subplots(figsize=(12,6))\n",
        "movieRatingGroup = dfRatingsKdf.groupby(\"movieId\")['rating'].count()\n",
        "movieRatingGroup.hist(bins=100, color='blue', edgecolor='black',\n",
        "                      linewidth=1.25, alpha=0.78, ax=ax)\n",
        "ax.set_xlabel('Nb. of Ratings per Movie')\n",
        "ax.set_xlim(0.0)\n",
        "ax.set_xticklabels(['{:,}'.format(int(x)) for x in ax.get_xticks().tolist()])\n",
        "ax.set_yticklabels(['{:,}'.format(int(x)) for x in ax.get_yticks().tolist()])\n",
        "plt.show()"
      ],
      "execution_count": 19,
      "outputs": [
        {
          "output_type": "display_data",
          "data": {
            "image/png": "[encoded data removed]",
            "text/plain": [
              "<Figure size 864x432 with 1 Axes>"
            ]
          },
          "metadata": {
            "tags": []
          }
        },
        {
          "output_type": "stream",
          "text": [
            "CPU times: user 428 ms, sys: 17.2 ms, total: 445 ms\n",
            "Wall time: 1min 45s\n"
          ],
          "name": "stdout"
        }
      ]
    },
    {
      "cell_type": "code",
      "metadata": {
        "colab": {
          "base_uri": "https://localhost:8080/",
          "height": 429
        },
        "id": "b_xL0wAYD21n",
        "outputId": "e7cc90a4-392a-4fa2-bf1d-0751782f6963"
      },
      "source": [
        "%%time\n",
        "movieRatingDistGroup = dfRatingsKdf['rating'].value_counts() \\\n",
        "                                             .sort_index() \\\n",
        "                                             .reset_index() \\\n",
        "                                             .to_pandas()\n",
        "\n",
        "# Create Matplotlib Figure\n",
        "fig, ax = plt.subplots(figsize=(12,6))\n",
        "\n",
        "# Main Figure: Seaborn Barplot\n",
        "sns.barplot(data=movieRatingDistGroup, x='index', y='rating',\n",
        "            palette='RdYlGn', edgecolor=\"black\", ax=ax)\n",
        "\n",
        "# Set Xaxis and Yaxis\n",
        "ax.set_xlabel(\"User-Movie Ratings\")\n",
        "ax.set_ylabel('Nb. of Users')\n",
        "ax.xaxis.set_tick_params(rotation=45)\n",
        "\n",
        "# Thousand separator on Yaxis labels\n",
        "ax.set_yticklabels(['{:,}'.format(int(x)) for x in ax.get_yticks().tolist()])\n",
        "\n",
        "# Add percentage text on top of each bar\n",
        "total = float(movieRatingDistGroup['rating'].sum())\n",
        "for p in ax.patches:\n",
        "    height = p.get_height()\n",
        "    ax.text(p.get_x()+p.get_width()/2.,\n",
        "            height+350,\n",
        "            '{0:.0%}'.format(height/total),\n",
        "            ha=\"center\") \n",
        "\n",
        "# Display plot\n",
        "plt.show()"
      ],
      "execution_count": 20,
      "outputs": [
        {
          "output_type": "display_data",
          "data": {
            "image/png": "[encoded data removed]",
            "text/plain": [
              "<Figure size 864x432 with 1 Axes>"
            ]
          },
          "metadata": {
            "tags": []
          }
        },
        {
          "output_type": "stream",
          "text": [
            "CPU times: user 324 ms, sys: 8.2 ms, total: 332 ms\n",
            "Wall time: 43.7 s\n"
          ],
          "name": "stdout"
        }
      ]
    },
    {
      "cell_type": "markdown",
      "metadata": {
        "id": "Xswm1t67FZga"
      },
      "source": [
        "# Model Training"
      ]
    },
    {
      "cell_type": "code",
      "metadata": {
        "id": "QydZHBKPFc2Z"
      },
      "source": [
        "ratingsPrepare = dfRatings.withColumn(\"userId\", F.col(\"userId\").cast('int')) \\\n",
        "                          .withColumn(\"movieId\", F.col(\"movieId\").cast('int'))\n",
        "\n",
        "dfRatingsTrain, dfRatingsTest = ratingsPrepare.randomSplit([0.8, 0.2],\n",
        "                                                           seed=SEED)"
      ],
      "execution_count": 23,
      "outputs": []
    },
    {
      "cell_type": "code",
      "metadata": {
        "id": "Phu1W9TsFeZL"
      },
      "source": [
        "def catalog_coverage(predicted, catalog, k):\n",
        "    \"\"\"\n",
        "    Computes the catalog coverage for k lists of recommendations\n",
        "    Parameters\n",
        "    ----------\n",
        "    predicted : a list of lists\n",
        "        Ordered predictions\n",
        "        example: [['X', 'Y', 'Z'], ['X', 'Y', 'Z']]\n",
        "    catalog: list\n",
        "        A list of all unique items in the training data\n",
        "        example: ['A', 'B', 'C', 'X', 'Y', Z]\n",
        "    k: integer\n",
        "        The number of observed recommendation lists\n",
        "        which randomly choosed in our offline setup\n",
        "    Returns\n",
        "    ----------\n",
        "    catalog_coverage:\n",
        "        The catalog coverage of the recommendations as a percent\n",
        "        rounded to 2 decimal places\n",
        "    ----------    \n",
        "    Metric Defintion:\n",
        "    Ge, M., Delgado-Battenfeld, C., & Jannach, D. (2010, September).\n",
        "    Beyond accuracy: evaluating recommender systems by coverage and\n",
        "    serendipity.\n",
        "    In Proceedings of the fourth ACM conference on Recommender systems\n",
        "    (pp. 257-260). ACM.\n",
        "    \"\"\"\n",
        "    sampling = random.choices(predicted, k=k)\n",
        "    predicted_flattened = [p for sublist in sampling for p in sublist]\n",
        "    L_predictions = len(set(predicted_flattened))\n",
        "    catalog_coverage = L_predictions/(len(catalog)*1.0)\n",
        "    return catalog_coverage\n",
        "\n",
        "\n",
        "def get_rec_sys_results(relevantDocumentsDf, dfMovies):\n",
        "    \"\"\"\n",
        "    Returns dictionnary of recommender system metrics\n",
        "    Since Spark ML DataFrame-based doesn't have a\n",
        "    specific function for evaluating the soundness\n",
        "    of item recommendations, we will have to use\n",
        "    Spark MLlib RDD-based API\n",
        "    \"\"\"\n",
        "    # Transform Spark Dataframe into Spark RDD\n",
        "    relevantDocuments = relevantDocumentsDf.rdd \\\n",
        "        .map(lambda row: (row.predictions, row.groundTruth))\n",
        "    \n",
        "    # Get Catalog Coverage\n",
        "    moviesCatalog = dfMovies.select(\"movieId\") \\\n",
        "                            .orderBy(\"movieId\") \\\n",
        "                            .distinct() \\\n",
        "                            .toPandas()\n",
        "    predictions = relevantDocumentsDf.select(\"predictions\").toPandas()\n",
        "    predictionsList = predictions.values.tolist()\n",
        "    predictionsList = [sublist[0] for sublist in predictionsList]\n",
        "    cc = catalog_coverage(predicted=predictionsList,\n",
        "                          catalog=moviesCatalog, k=100)\n",
        "\n",
        "    # Get Results\n",
        "    metrics = RankingMetrics(relevantDocuments)\n",
        "    pk20 = metrics.precisionAt(20)\n",
        "    ndcg20 = metrics.ndcgAt(20)\n",
        "    \n",
        "    results = dict(Pk20=pk20, NDCGk20=ndcg20, CC=cc)\n",
        "    \n",
        "    return results\n",
        "\n",
        "\n",
        "def format_recommendations(rowPreds):\n",
        "    # From recommendations column extract only items\n",
        "    # recommended and ignore ratings\n",
        "    rowPredsList = [row.movieId for row in rowPreds]\n",
        "    return rowPredsList\n",
        "\n",
        "udf_format_recommendations = F.udf(lambda x: format_recommendations(x),\n",
        "                                   ArrayType(IntegerType()))"
      ],
      "execution_count": 24,
      "outputs": []
    },
    {
      "cell_type": "code",
      "metadata": {
        "id": "lnOWRbmCFlwt"
      },
      "source": [
        "class PopularityRecommenderModel(object):\n",
        "    \"\"\"\n",
        "    Class for generating movie item recommendations based on movie popularity\n",
        "    (from average ratings with logarithmic scaling factor that penalizes movies\n",
        "    with few ratings). By default, only the top 10 rated movies are selected.\n",
        "\n",
        "    Approach studied during MS Big Data's SD 701 Big Data Mining Course.\n",
        "    \"\"\"\n",
        "    def __init__(self, ratingsTrain, ratingsTest):\n",
        "        self.ratingsTrain = ratingsTrain\n",
        "        self.ratingsTest = ratingsTest\n",
        "\n",
        "    def generate_recommendations_for_all_users(self, topk=10):\n",
        "        # Get list of top k rated movies\n",
        "        topRated = self._get_top_k_best_movies(topk=topk)\n",
        "\n",
        "        # Compare most popular movies with user's personal preferences\n",
        "        # Important: only keep recommendations with rating over 3/5\n",
        "        results = self.ratingsTest \\\n",
        "                 .filter(F.col(\"ratingsBinary\")==1.0) \\\n",
        "                 .withColumn('movieId', F.col('movieId').cast('int')) \\\n",
        "                 .orderBy('rating', ascending=False) \\\n",
        "                 .groupby(\"userId\") \\\n",
        "                 .agg(F.collect_list(\"movieId\").alias('groundTruth')) \\\n",
        "                 .withColumn('predictions', F.array([F.lit(el)\n",
        "                        for el in topRated])) \\\n",
        "                 .select(['userId', 'predictions', 'groundTruth'])\n",
        "\n",
        "        return results\n",
        "\n",
        "    def _get_top_k_best_movies(self, topk):\n",
        "\n",
        "        # Function\n",
        "        def _get_mean_rating_w_log_penalty(arr):\n",
        "            sumRatings, nbRatings = arr[0], arr[1]\n",
        "            grade = (sumRatings / nbRatings) * math.log(nbRatings)\n",
        "            return grade\n",
        "\n",
        "        # UDF\n",
        "        udf_mean_rating_w_log_penalty = F.udf(\n",
        "            lambda arr: _get_mean_rating_w_log_penalty(arr),\n",
        "            DoubleType()\n",
        "        )\n",
        "\n",
        "        # Get top k Best Rated Movies\n",
        "        ranking = self.ratingsTrain.groupBy('movieId') \\\n",
        "              .agg({'rating': 'sum', 'userId': 'count'}) \\\n",
        "              .toDF('movieId', 'sumRating', 'nbRatings')\n",
        "\n",
        "        ranking = ranking \\\n",
        "        .withColumn(\"meanLogUserRating\",\n",
        "         udf_mean_rating_w_log_penalty(F.array(\"sumRating\", \"nbRatings\"))\n",
        "         ) \\\n",
        "        .sort(['meanLogUserRating', 'nbRatings'], ascending=[False, True]) \\\n",
        "        .limit(topk)\n",
        "\n",
        "        self.topRatedMovies = ranking\n",
        "        ratingsTop = [int(row.movieId) for row in ranking.collect()]\n",
        "\n",
        "        return ratingsTop"
      ],
      "execution_count": 28,
      "outputs": []
    },
    {
      "cell_type": "code",
      "metadata": {
        "colab": {
          "base_uri": "https://localhost:8080/"
        },
        "id": "n9pYy2DoF1ky",
        "outputId": "2ead7184-b110-4948-f0c3-45ab58544b94"
      },
      "source": [
        "%%time\n",
        "pbrModel = PopularityRecommenderModel(dfRatingsTrain, dfRatingsTest)\n",
        "resultsPop = pbrModel.generate_recommendations_for_all_users(topk=20)"
      ],
      "execution_count": 29,
      "outputs": [
        {
          "output_type": "stream",
          "text": [
            "CPU times: user 85 ms, sys: 23.9 ms, total: 109 ms\n",
            "Wall time: 2min 16s\n"
          ],
          "name": "stdout"
        }
      ]
    },
    {
      "cell_type": "code",
      "metadata": {
        "colab": {
          "base_uri": "https://localhost:8080/"
        },
        "id": "EOfcKCh-GdNt",
        "outputId": "5c23141f-5e34-408f-ad16-21a2ea09aee2"
      },
      "source": [
        "%%time\n",
        "resultsPop.limit(5).orderBy('userId').show(5)"
      ],
      "execution_count": 30,
      "outputs": [
        {
          "output_type": "stream",
          "text": [
            "+------+--------------------+--------------------+\n",
            "|userId|         predictions|         groundTruth|\n",
            "+------+--------------------+--------------------+\n",
            "|   148|[318, 296, 858, 5...|[1209, 2959, 293,...|\n",
            "|   463|[318, 296, 858, 5...|      [32, 785, 762]|\n",
            "|   471|[318, 296, 858, 5...|[60069, 68954, 95...|\n",
            "|   496|[318, 296, 858, 5...|[199, 1247, 71579...|\n",
            "|   833|[318, 296, 858, 5...|[260, 68954, 1, 2...|\n",
            "+------+--------------------+--------------------+\n",
            "\n",
            "CPU times: user 108 ms, sys: 17.5 ms, total: 125 ms\n",
            "Wall time: 6min 15s\n"
          ],
          "name": "stdout"
        }
      ]
    },
    {
      "cell_type": "code",
      "metadata": {
        "colab": {
          "base_uri": "https://localhost:8080/"
        },
        "id": "AuoE1_VUHgCO",
        "outputId": "29a8c87b-7fdb-4f97-867b-3abe1fca821f"
      },
      "source": [
        "%%time\n",
        "results = get_rec_sys_results(resultsPop, dfMovies)"
      ],
      "execution_count": 31,
      "outputs": [
        {
          "output_type": "stream",
          "text": [
            "CPU times: user 2.22 s, sys: 150 ms, total: 2.37 s\n",
            "Wall time: 12min 57s\n"
          ],
          "name": "stdout"
        }
      ]
    },
    {
      "cell_type": "code",
      "metadata": {
        "colab": {
          "base_uri": "https://localhost:8080/"
        },
        "id": "xN7VGb8sJIWL",
        "outputId": "c9869021-3f5a-4ba0-9aed-982b628bf6ca"
      },
      "source": [
        "pprint(results)"
      ],
      "execution_count": 32,
      "outputs": [
        {
          "output_type": "stream",
          "text": [
            "{'CC': 0.00032039472630280506,\n",
            " 'NDCGk20': 0.09535904901542727,\n",
            " 'Pk20': 0.06771431044717054}\n"
          ],
          "name": "stdout"
        }
      ]
    },
    {
      "cell_type": "code",
      "metadata": {
        "colab": {
          "base_uri": "https://localhost:8080/"
        },
        "id": "pZHIlEnqMP-K",
        "outputId": "a9d5bb77-4b33-4a0d-cb2d-5a501e679238"
      },
      "source": [
        "%%time\n",
        "_ = pbrModel.generate_recommendations_for_all_users(topk=20)\n",
        "pbrModel.topRatedMovies \\\n",
        "    .join(dfMovies.select(['movieId', 'title']), 'movieId') \\\n",
        "    .orderBy('meanLogUserRating', ascending=False) \\\n",
        "    .show(20, truncate=False)"
      ],
      "execution_count": 33,
      "outputs": [
        {
          "output_type": "stream",
          "text": [
            "+-------+---------+---------+------------------+------------------------------------------------------------------------------+\n",
            "|movieId|sumRating|nbRatings|meanLogUserRating |title                                                                         |\n",
            "+-------+---------+---------+------------------+------------------------------------------------------------------------------+\n",
            "|318    |288098.5 |65251    |48.9472805946674  |Shawshank Redemption, The (1994)                                              |\n",
            "|296    |266833.0 |63666    |46.35988020423733 |Pulp Fiction (1994)                                                           |\n",
            "|858    |182023.5 |42077    |46.05962647076001 |Godfather, The (1972)                                                         |\n",
            "|50     |189592.5 |44245    |45.83942418693688 |Usual Suspects, The (1995)                                                    |\n",
            "|527    |205136.5 |48311    |45.7966548667675  |Schindler's List (1993)                                                       |\n",
            "|593    |246565.0 |59374    |45.6453454135832  |Silence of the Lambs, The (1991)                                              |\n",
            "|2571   |241797.5 |58218    |45.56992763924904 |Matrix, The (1999)                                                            |\n",
            "|2959   |198858.5 |47013    |45.50561388997872 |Fight Club (1999)                                                             |\n",
            "|260    |226279.5 |54912    |44.971926409367185|Star Wars: Episode IV - A New Hope (1977)                                     |\n",
            "|356    |263817.5 |65140    |44.8914760998126  |Forrest Gump (1994)                                                           |\n",
            "|1196   |190280.0 |45912    |44.488525807276936|Star Wars: Episode V - The Empire Strikes Back (1980)                         |\n",
            "|1198   |179996.0 |43627    |44.07763396393697 |Raiders of the Lost Ark (Indiana Jones and the Raiders of the Lost Ark) (1981)|\n",
            "|2858   |176664.0 |42998    |43.8348788018898  |American Beauty (1999)                                                        |\n",
            "|4993   |182495.0 |44627    |43.78086552645706 |Lord of the Rings: The Fellowship of the Ring, The (2001)                     |\n",
            "|1221   |116665.0 |27368    |43.553838042987806|Godfather: Part II, The (1974)                                                |\n",
            "|608    |157518.0 |38329    |43.37287685968001 |Fargo (1996)                                                                  |\n",
            "|58559  |138408.5 |33223    |43.372680770588154|Dark Knight, The (2008)                                                       |\n",
            "|7153   |166169.5 |40667    |43.36650166378857 |Lord of the Rings: The Return of the King, The (2003)                         |\n",
            "|1193   |121581.5 |28831    |43.30566151630536 |One Flew Over the Cuckoo's Nest (1975)                                        |\n",
            "|47     |165762.5 |40638    |43.28824531670545 |Seven (a.k.a. Se7en) (1995)                                                   |\n",
            "+-------+---------+---------+------------------+------------------------------------------------------------------------------+\n",
            "\n",
            "CPU times: user 155 ms, sys: 45 ms, total: 200 ms\n",
            "Wall time: 4min 29s\n"
          ],
          "name": "stdout"
        }
      ]
    },
    {
      "cell_type": "markdown",
      "metadata": {
        "id": "MfGWvzYJNfya"
      },
      "source": [
        "# Model-Based Collaborative Filtering"
      ]
    },
    {
      "cell_type": "markdown",
      "metadata": {
        "id": "4YGYQpGzNm8v"
      },
      "source": [
        "Model Training"
      ]
    },
    {
      "cell_type": "code",
      "metadata": {
        "colab": {
          "base_uri": "https://localhost:8080/"
        },
        "id": "1nMxOb0PNq3p",
        "outputId": "33b9be71-c4a5-4f9b-91da-9142adbeb9f4"
      },
      "source": [
        "%%time\n",
        "tempALS = ALS(maxIter=10, rank=10, regParam=0.1, nonnegative=True,\n",
        "              userCol='userId', itemCol='movieId', ratingCol='rating',\n",
        "              coldStartStrategy='drop', implicitPrefs=False, seed=SEED)\n",
        "\n",
        "mlALSFitted = tempALS.fit(dfRatingsTrain)"
      ],
      "execution_count": 34,
      "outputs": [
        {
          "output_type": "stream",
          "text": [
            "CPU times: user 133 ms, sys: 37.9 ms, total: 171 ms\n",
            "Wall time: 5min 12s\n"
          ],
          "name": "stdout"
        }
      ]
    },
    {
      "cell_type": "code",
      "metadata": {
        "id": "cjqsMjw0Ntga"
      },
      "source": [
        "mlALSFitted.save(RESULTS_PATH+\"/ALS_MovieLens_25M\")"
      ],
      "execution_count": 35,
      "outputs": []
    },
    {
      "cell_type": "code",
      "metadata": {
        "id": "1nzbswrZO_tQ"
      },
      "source": [
        "\n",
        "mlALSFitted = ALSModel.load(RESULTS_PATH+\"/ALS_MovieLens_25M\")"
      ],
      "execution_count": 36,
      "outputs": []
    },
    {
      "cell_type": "markdown",
      "metadata": {
        "id": "CKvvUnnuPIkC"
      },
      "source": [
        "RSME on Test set"
      ]
    },
    {
      "cell_type": "code",
      "metadata": {
        "colab": {
          "base_uri": "https://localhost:8080/"
        },
        "id": "zP8vwi9QPKzF",
        "outputId": "4d3457b0-9fbd-4e18-ace7-b939f3fc9e2c"
      },
      "source": [
        "%%time\n",
        "predictions = mlALSFitted.transform(dfRatingsTest)\n",
        "evaluator = RegressionEvaluator(metricName='rmse', labelCol='rating',\n",
        "                                predictionCol='prediction')\n",
        "rmse = evaluator.evaluate(predictions)\n",
        "print('RMSE (Test Set):', rmse)"
      ],
      "execution_count": 37,
      "outputs": [
        {
          "output_type": "stream",
          "text": [
            "RMSE (Test Set): 0.8147418252855383\n",
            "CPU times: user 87.5 ms, sys: 29 ms, total: 116 ms\n",
            "Wall time: 2min 40s\n"
          ],
          "name": "stdout"
        }
      ]
    },
    {
      "cell_type": "markdown",
      "metadata": {
        "id": "1tXV0wcqP8bo"
      },
      "source": [
        "Evaluating Recommedations"
      ]
    },
    {
      "cell_type": "code",
      "metadata": {
        "id": "SyVd9FEfP-Qp"
      },
      "source": [
        "resultsALS = mlALSFitted.recommendForAllUsers(20)\n",
        "\n",
        "resultsALS = resultsALS.withColumn('recommendations',\n",
        "              udf_format_recommendations(F.col(\"recommendations\"))) \\\n",
        "              .toDF('userId', 'predictions')"
      ],
      "execution_count": 38,
      "outputs": []
    },
    {
      "cell_type": "code",
      "metadata": {
        "id": "2oOUgzoOP_le"
      },
      "source": [
        "resultsALSExpanded = resultsALS \\\n",
        "                        .withColumn(\"movieId\", F.explode(\"predictions\")) \\\n",
        "                        .drop('predictions') \\\n",
        "                        .join(dfMovies, \"movieId\")\n",
        "\n",
        "resultsALSKdf = resultsALSExpanded.to_koalas()\n",
        "\n",
        "MostRecommendedMoviesForAllUsers = resultsALSKdf.groupby([\"movieId\", \"title\"])['userId'].count()\n",
        "MostRecommendedMoviesForAllUsers = MostRecommendedMoviesForAllUsers.sort_values(ascending=False)"
      ],
      "execution_count": 39,
      "outputs": []
    },
    {
      "cell_type": "code",
      "metadata": {
        "colab": {
          "base_uri": "https://localhost:8080/"
        },
        "id": "1Bw0ElJFQDpS",
        "outputId": "947c57df-274c-4807-e928-ae94e835930a"
      },
      "source": [
        "%%time\n",
        "MostRecommendedMoviesForAllUsers.head(20)"
      ],
      "execution_count": 40,
      "outputs": [
        {
          "output_type": "stream",
          "text": [
            "CPU times: user 8.77 ms, sys: 1.42 ms, total: 10.2 ms\n",
            "Wall time: 41.9 ms\n"
          ],
          "name": "stdout"
        },
        {
          "output_type": "execute_result",
          "data": {
            "text/plain": [
              "movieId  title                                             \n",
              "151989   The Thorn (1971)                                      158503\n",
              "194434   Adrenaline (1990)                                     152557\n",
              "203086   Truth and Justice (2019)                              146142\n",
              "203882   Dead in the Water (2006)                              143944\n",
              "183947   NOFX Backstage Passport 2                             137260\n",
              "202231   Foster (2018)                                         122000\n",
              "192261   Don't Laugh at My Romance (2008)                      110486\n",
              "192089   National Theatre Live: One Man, Two Guvnors (2011)    101177\n",
              "196787   The Law and the Fist (1964)                            94660\n",
              "197355   Once Upon a Ladder (2016)                              76203\n",
              "165559   Ο Θανάσης στη χώρα της σφαλιάρας (1976)                71018\n",
              "194332   Muchas gracias de nada (1980)                          69834\n",
              "157789   .hack Liminality In the Case of Yuki Aihara            58732\n",
              "157787   .hack Liminality: In the Case of Mai Minase            58626\n",
              "166812   Seeing Red: Stories of American Communists (1983)      58107\n",
              "165689   Head Trauma (2006)                                     57988\n",
              "205277   Inside Out (1991)                                      56622\n",
              "187949   Furious Love (2010)                                    51055\n",
              "187947   Finger of God (2007)                                   50971\n",
              "194883   The Go-Betweens: Right Here (2017)                     48672\n",
              "Name: userId, dtype: int64"
            ]
          },
          "metadata": {
            "tags": []
          },
          "execution_count": 40
        }
      ]
    },
    {
      "cell_type": "code",
      "metadata": {
        "id": "IunfLFp6QGt3"
      },
      "source": [
        "resultsALS = resultsALS \\\n",
        "                 .join(\n",
        "                 dfRatingsTest \\\n",
        "                 .filter(F.col(\"ratingsBinary\")==1.0) \\\n",
        "                 .withColumn('movieId', F.col('movieId').cast('int')) \\\n",
        "                 .groupby(\"userId\") \\\n",
        "                 .agg(F.collect_list(\"movieId\").alias(\"groundTruth\")),\n",
        "                     'userId'\n",
        "                 )\n",
        "\n",
        "# resultsALS.orderBy('userId').limit(10).show(10)"
      ],
      "execution_count": 41,
      "outputs": []
    },
    {
      "cell_type": "code",
      "metadata": {
        "colab": {
          "base_uri": "https://localhost:8080/"
        },
        "id": "MqYTx8p2S0ee",
        "outputId": "41e708dd-0c41-4a49-f38c-12d20dbf238b"
      },
      "source": [
        "%%time\n",
        "resultsALSMetrics = get_rec_sys_results(resultsALS, dfMovies)"
      ],
      "execution_count": 42,
      "outputs": [
        {
          "output_type": "stream",
          "text": [
            "CPU times: user 2.31 s, sys: 259 ms, total: 2.57 s\n",
            "Wall time: 27min 18s\n"
          ],
          "name": "stdout"
        }
      ]
    },
    {
      "cell_type": "code",
      "metadata": {
        "colab": {
          "base_uri": "https://localhost:8080/"
        },
        "id": "IkSs-Dq5S3-V",
        "outputId": "60ac7a29-a96b-49ef-e308-403217ca1f17"
      },
      "source": [
        "pprint(resultsALSMetrics)"
      ],
      "execution_count": 43,
      "outputs": [
        {
          "output_type": "stream",
          "text": [
            "{'CC': 0.0036364801435368375,\n",
            " 'NDCGk20': 3.6917610374570712e-06,\n",
            " 'Pk20': 3.4007716660071253e-06}\n"
          ],
          "name": "stdout"
        }
      ]
    },
    {
      "cell_type": "markdown",
      "metadata": {
        "id": "3OAKAWQCZvWo"
      },
      "source": [
        "# Results"
      ]
    },
    {
      "cell_type": "code",
      "metadata": {
        "id": "8S4eIv8sZxt-"
      },
      "source": [
        "results = {'CC': 0.00032039472630280506,\n",
        " 'NDCGk20': 0.09535904901542727,\n",
        " 'Pk20': 0.06771431044717054}"
      ],
      "execution_count": 44,
      "outputs": []
    },
    {
      "cell_type": "code",
      "metadata": {
        "id": "cRN9DJUeZ7aV"
      },
      "source": [
        "results['RMSE'] = 'N/A'\n",
        "resultsALSMetrics['RMSE'] = rmse"
      ],
      "execution_count": 45,
      "outputs": []
    },
    {
      "cell_type": "code",
      "metadata": {
        "colab": {
          "base_uri": "https://localhost:8080/",
          "height": 173
        },
        "id": "B0ddDnCFZ-f7",
        "outputId": "c5e5f0ee-e0ea-4b42-f57b-cebb43286670"
      },
      "source": [
        "modelResults = pd.DataFrame([results, resultsALSMetrics],\n",
        "                             index=['PopRec', 'CF-ALS'])\n",
        "\n",
        "modelResults.transpose()"
      ],
      "execution_count": 46,
      "outputs": [
        {
          "output_type": "execute_result",
          "data": {
            "text/html": [
              "<div>\n",
              "<style scoped>\n",
              "    .dataframe tbody tr th:only-of-type {\n",
              "        vertical-align: middle;\n",
              "    }\n",
              "\n",
              "    .dataframe tbody tr th {\n",
              "        vertical-align: top;\n",
              "    }\n",
              "\n",
              "    .dataframe thead th {\n",
              "        text-align: right;\n",
              "    }\n",
              "</style>\n",
              "<table border=\"1\" class=\"dataframe\">\n",
              "  <thead>\n",
              "    <tr style=\"text-align: right;\">\n",
              "      <th></th>\n",
              "      <th>PopRec</th>\n",
              "      <th>CF-ALS</th>\n",
              "    </tr>\n",
              "  </thead>\n",
              "  <tbody>\n",
              "    <tr>\n",
              "      <th>CC</th>\n",
              "      <td>0.000320395</td>\n",
              "      <td>0.00363648</td>\n",
              "    </tr>\n",
              "    <tr>\n",
              "      <th>NDCGk20</th>\n",
              "      <td>0.095359</td>\n",
              "      <td>3.69176e-06</td>\n",
              "    </tr>\n",
              "    <tr>\n",
              "      <th>Pk20</th>\n",
              "      <td>0.0677143</td>\n",
              "      <td>3.40077e-06</td>\n",
              "    </tr>\n",
              "    <tr>\n",
              "      <th>RMSE</th>\n",
              "      <td>N/A</td>\n",
              "      <td>0.814742</td>\n",
              "    </tr>\n",
              "  </tbody>\n",
              "</table>\n",
              "</div>"
            ],
            "text/plain": [
              "              PopRec       CF-ALS\n",
              "CC       0.000320395   0.00363648\n",
              "NDCGk20     0.095359  3.69176e-06\n",
              "Pk20       0.0677143  3.40077e-06\n",
              "RMSE             N/A     0.814742"
            ]
          },
          "metadata": {
            "tags": []
          },
          "execution_count": 46
        }
      ]
    },
    {
      "cell_type": "markdown",
      "metadata": {
        "id": "9iLSYYpCaDu3"
      },
      "source": [
        "Testing with my values"
      ]
    },
    {
      "cell_type": "code",
      "metadata": {
        "colab": {
          "base_uri": "https://localhost:8080/"
        },
        "id": "gsDS_aVYaFW-",
        "outputId": "ac1ba508-7a76-4f35-c36f-2a9bc5e8acfd"
      },
      "source": [
        "%%time\n",
        "dfRatingsTrain.filter(F.col(\"userId\")==0).count()"
      ],
      "execution_count": 47,
      "outputs": [
        {
          "output_type": "stream",
          "text": [
            "CPU times: user 34.1 ms, sys: 9.53 ms, total: 43.6 ms\n",
            "Wall time: 2min 12s\n"
          ],
          "name": "stdout"
        },
        {
          "output_type": "execute_result",
          "data": {
            "text/plain": [
              "57"
            ]
          },
          "metadata": {
            "tags": []
          },
          "execution_count": 47
        }
      ]
    },
    {
      "cell_type": "code",
      "metadata": {
        "colab": {
          "base_uri": "https://localhost:8080/"
        },
        "id": "1y5eDs83aHsF",
        "outputId": "046a25c8-20ab-48c9-ee8d-088fd89bef94"
      },
      "source": [
        "%%time\n",
        "predictionsPerso = resultsALS.filter(F.col(\"userId\")==0) \\\n",
        "                             .select(F.explode(\"predictions\") \\\n",
        "                             .alias(\"movieId\")) \\\n",
        "                             .join(dfMovies.select([\"movieId\", \"title\"]),\n",
        "                                   \"movieId\") \\\n",
        "                             .join(dfRatings.filter(F.col(\"userId\")==0),\n",
        "                                   ['movieId'], how='left')\n",
        "\n",
        "predictionsPerso.select([\"title\", \"rating\"]).show(10, truncate=False)"
      ],
      "execution_count": 48,
      "outputs": [
        {
          "output_type": "stream",
          "text": [
            "+-------------------------------------+------+\n",
            "|title                                |rating|\n",
            "+-------------------------------------+------+\n",
            "|Foster (2018)                        |null  |\n",
            "|The Thorn (1971)                     |null  |\n",
            "|Hoaxed (2019)                        |null  |\n",
            "|My Best Enemy (2006)                 |null  |\n",
            "|The Challengers (1990)               |null  |\n",
            "|Fracchia la belva umana (1981)       |null  |\n",
            "|La leggenda di Al, John e Jack (2002)|null  |\n",
            "|Heroes Above All (2017)              |null  |\n",
            "|Of Two Minds (2012)                  |null  |\n",
            "|King for a Day (1983)                |null  |\n",
            "+-------------------------------------+------+\n",
            "only showing top 10 rows\n",
            "\n",
            "CPU times: user 149 ms, sys: 42.2 ms, total: 191 ms\n",
            "Wall time: 12min 52s\n"
          ],
          "name": "stdout"
        }
      ]
    },
    {
      "cell_type": "code",
      "metadata": {
        "id": "6dCSEx_Ja2TL"
      },
      "source": [
        ""
      ],
      "execution_count": null,
      "outputs": []
    }
  ]
}